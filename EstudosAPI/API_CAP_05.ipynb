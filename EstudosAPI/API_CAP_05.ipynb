{
 "cells": [
  {
   "cell_type": "markdown",
   "metadata": {},
   "source": [
    "## Introdução"
   ]
  },
  {
   "cell_type": "code",
   "execution_count": 21,
   "metadata": {},
   "outputs": [
    {
     "data": {
      "text/plain": [
       "{3, 4, 'qualquer', 'valor'}"
      ]
     },
     "execution_count": 21,
     "metadata": {},
     "output_type": "execute_result"
    }
   ],
   "source": [
    "ana= 'ANA'\n",
    "ana.capitalize()\n",
    "meu_set ={4, \"valor\",3,\"qualquer\"}\n",
    "meu_set #nao aceita numeros repetidos e não tem indexação\n",
    "#meu_set[0] NAO FUNCIONA PARA OBJETOS DO TIPO SETs"
   ]
  },
  {
   "cell_type": "code",
   "execution_count": 22,
   "metadata": {},
   "outputs": [
    {
     "data": {
      "text/plain": [
       "11"
      ]
     },
     "execution_count": 22,
     "metadata": {},
     "output_type": "execute_result"
    }
   ],
   "source": [
    "meu_dicionario=[{'nome':'Ana', 'idade':80},{'nome':'Maria', 'idade':35}, {'nome':'Lais', 'idade':20}] #Lista de dicionarios\n",
    "meu_dicionario[0]['idade'] #pegar a idade do objeto na posição 0\n",
    "loteria={'nome': 'Ana', 'numeros':(3,1,1,5,1)}\n",
    "sum(loteria['numeros']) #soma de todos os elementos no array que usam a chave 'numeros'"
   ]
  },
  {
   "cell_type": "markdown",
   "metadata": {},
   "source": [
    "## Classes"
   ]
  },
  {
   "cell_type": "code",
   "execution_count": 54,
   "metadata": {},
   "outputs": [],
   "source": [
    "jogador_loteria_1={\n",
    "    'nome': 'Predo',\n",
    "    'numero':(13,1,1,2,4)    \n",
    "}\n",
    "jogador_loteria_2={\n",
    "    'nome': 'Predo',\n",
    "    'numero':(13,1,1,2,4)    \n",
    "}\n",
    "#Classe é um objeto ou um modelo ou uma representação de um objeto\n",
    "#Objeto é uma instancia de uma classe\n",
    "class JogadorLoteria:\n",
    "    def __init__(self):\n",
    "        self.nome = \"Predo\"\n",
    "        self.numero = (13,1,1,2,4)\n",
    "    def total(self):\n",
    "        return sum(self.numero)\n",
    "    "
   ]
  },
  {
   "cell_type": "code",
   "execution_count": null,
   "metadata": {},
   "outputs": [],
   "source": [
    "jogador_1 = JogadorLoteria()\n",
    "jogador_1.nome\n",
    "jogador_1.numero"
   ]
  },
  {
   "cell_type": "markdown",
   "metadata": {},
   "source": [
    "## Herança"
   ]
  },
  {
   "cell_type": "code",
   "execution_count": 81,
   "metadata": {},
   "outputs": [],
   "source": [
    "class Funcionario():\n",
    "    def __init__ (self, nome, salario):\n",
    "        self.nome = nome\n",
    "        self.salario = salario\n",
    "    def dados(self):\n",
    "        return {'nome': self.nome, 'salario':self.salario}\n",
    "\n",
    "fabio = Funcionario('Fabio',7000)\n",
    "fabio.dados()"
   ]
  },
  {
   "cell_type": "code",
   "execution_count": 83,
   "metadata": {},
   "outputs": [
    {
     "data": {
      "text/plain": [
       "{'nome': 'Fabio', 'salario': 7000}"
      ]
     },
     "execution_count": 83,
     "metadata": {},
     "output_type": "execute_result"
    }
   ],
   "source": [
    "class Admin(Funcionario): #A classe Admin herda de Funcionarios,recebendo ela por parametros, logo todos\n",
    "    def __init__ (self, nome, salario): #os metodos e funçoes existente em Funcionarios existira em Admin\n",
    "        super().__init__(nome, salario) #para ter acesso \n",
    "        \n",
    "    def atualizar_dados(self, nome):\n",
    "        self.nome = nome\n",
    "        return self.dados()"
   ]
  },
  {
   "cell_type": "code",
   "execution_count": 84,
   "metadata": {},
   "outputs": [],
   "source": [
    "fernando = Admin ('Fernando', 14000)\n",
    "fabio.dados()\n",
    "fernando.atualizar_dados('Fernado')\n",
    "fernando.dados()"
   ]
  },
  {
   "cell_type": "markdown",
   "metadata": {},
   "source": [
    "## Metodos de classe e metodos estatiscos "
   ]
  },
  {
   "cell_type": "code",
   "execution_count": 113,
   "metadata": {},
   "outputs": [],
   "source": [
    "class Funcionario2():\n",
    "    aumento = 1.04 #pertence a classe funcionario\n",
    "    def __init__ (self, nome, salario):\n",
    "        self.nome = nome\n",
    "        self.salario = salario\n",
    "    def dados(self):\n",
    "        return {'nome': self.nome, 'salario':self.salario}\n",
    "    def aplicar_aumento(self):\n",
    "        self.salario = self.salario * self.aumento\n",
    "    @classmethod  #metodo de classe, toda função que recebe ele é obrigatorio o 'cls'\n",
    "    def definir_novo_aumento(cls, novo_aumento): #recebe o atributo da classe\n",
    "        cls.aumento = novo_aumento\n",
    "    \n",
    "    @staticmethod #posso usar este metedo statico caso a funçao nao dependa da classe\n",
    "    def dia_util(dia): #função para retornar se o dia da semana é dia util ou não (função weekday é nativo do python)\n",
    "        if dia.weekday() == 5 or dia.weekday() == 6:\n",
    "            return False\n",
    "        else:\n",
    "            return True\n",
    "        "
   ]
  },
  {
   "cell_type": "code",
   "execution_count": 146,
   "metadata": {},
   "outputs": [
    {
     "data": {
      "text/plain": [
       "{'nome': 'Predo', 'salario': 8400.0}"
      ]
     },
     "execution_count": 146,
     "metadata": {},
     "output_type": "execute_result"
    }
   ],
   "source": [
    "fabio = Funcionario2('Fabio', 7000)\n",
    "fabio.aplicar_aumento()\n",
    "fabio.dados()\n",
    "Funcionario2.definir_novo_aumento(1.05) # com esta função, eu posso aplicar o aumento que eu quiser, sem precisar usar o valor definido da classe\n",
    "pedro = Funcionario2('Predo', 8000)\n",
    "pedro.aplicar_aumento()\n",
    "pedro.dados()"
   ]
  },
  {
   "cell_type": "code",
   "execution_count": 147,
   "metadata": {},
   "outputs": [
    {
     "data": {
      "text/plain": [
       "False"
      ]
     },
     "execution_count": 147,
     "metadata": {},
     "output_type": "execute_result"
    }
   ],
   "source": [
    "#para testar a funcao dia_util\n",
    "import datetime\n",
    "minha_data = datetime.date(2020,6,13) #sabado\n",
    "Funcionario2.dia_util(minha_data)"
   ]
  },
  {
   "cell_type": "markdown",
   "metadata": {},
   "source": [
    "## args ==> argumentos\n",
    "## kwargs ==> keywords arguments (argumentos de palavra chave)"
   ]
  },
  {
   "cell_type": "code",
   "execution_count": 148,
   "metadata": {},
   "outputs": [
    {
     "data": {
      "text/plain": [
       "17"
      ]
     },
     "execution_count": 148,
     "metadata": {},
     "output_type": "execute_result"
    }
   ],
   "source": [
    "# nao especifico quantos elementos vao vir na função [mais parece um ponteiro haha]\n",
    "def soma_simplificada(*args):\n",
    "    return sum(args)\n",
    "soma_simplificada(4,5,6,2)"
   ]
  },
  {
   "cell_type": "code",
   "execution_count": 150,
   "metadata": {},
   "outputs": [
    {
     "name": "stdout",
     "output_type": "stream",
     "text": [
      "(3, 'paty', 'matheus', 'gaucho', 24)\n",
      "{'nome': 'Ana', 'idade': 25}\n"
     ]
    }
   ],
   "source": [
    "# possui uma palavra chave como argumentos\n",
    "#args antes do kwargs\n",
    "def metodo_kwargs(*args, **kwargs):\n",
    "    print(args)\n",
    "    print(kwargs)\n",
    "metodo_kwargs(3,'paty', 'matheus', 'gaucho',24, nome='Ana', idade =25)"
   ]
  },
  {
   "cell_type": "markdown",
   "metadata": {},
   "source": [
    "## Decoradores"
   ]
  },
  {
   "cell_type": "code",
   "execution_count": 140,
   "metadata": {},
   "outputs": [],
   "source": [
    "#tem o poder de transformar uma função\n",
    "\n",
    "import functools\n",
    "\n",
    "def meu_decorador(funcao):\n",
    "    @functools.wraps(funcao)\n",
    "    def func_que_roda_funcao():\n",
    "        print(\"***************Embrulhando a função! ****************\")\n",
    "        funcao()\n",
    "        print(\"***************Fechando o embrulho! ****************\")\n",
    "    return func_que_roda_funcao"
   ]
  },
  {
   "cell_type": "code",
   "execution_count": 144,
   "metadata": {},
   "outputs": [],
   "source": [
    "@meu_decorador\n",
    "def minha_funcao():\n",
    "    print(\"Eu sou uma função\")"
   ]
  },
  {
   "cell_type": "code",
   "execution_count": 145,
   "metadata": {},
   "outputs": [
    {
     "name": "stdout",
     "output_type": "stream",
     "text": [
      "***************Embrulhando a função! ****************\n",
      "Eu sou uma função\n",
      "***************Fechando o embrulho! ****************\n"
     ]
    }
   ],
   "source": [
    "minha_funcao()"
   ]
  },
  {
   "cell_type": "code",
   "execution_count": null,
   "metadata": {},
   "outputs": [],
   "source": []
  }
 ],
 "metadata": {
  "kernelspec": {
   "display_name": "Python 3",
   "language": "python",
   "name": "python3"
  },
  "language_info": {
   "codemirror_mode": {
    "name": "ipython",
    "version": 3
   },
   "file_extension": ".py",
   "mimetype": "text/x-python",
   "name": "python",
   "nbconvert_exporter": "python",
   "pygments_lexer": "ipython3",
   "version": "3.7.6"
  }
 },
 "nbformat": 4,
 "nbformat_minor": 4
}
